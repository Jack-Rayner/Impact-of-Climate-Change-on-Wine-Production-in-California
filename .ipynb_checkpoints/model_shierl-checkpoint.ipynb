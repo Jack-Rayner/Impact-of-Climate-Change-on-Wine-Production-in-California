{
 "cells": [
  {
   "cell_type": "code",
   "execution_count": 95,
   "id": "bc6c2c3e",
   "metadata": {},
   "outputs": [],
   "source": [
    "import pandas as pd\n",
    "import numpy as np\n",
    "import matplotlib.pyplot as plt\n",
    "import seaborn as sns\n",
    "\n",
    "\n",
    "from sklearn import metrics\n",
    "from sklearn.preprocessing import StandardScaler\n",
    "from sklearn.model_selection import train_test_split,cross_val_score\n",
    "from sklearn.linear_model import LinearRegression\n",
    "from sklearn.neighbors import KNeighborsRegressor\n",
    "from sklearn.ensemble import RandomForestRegressor,AdaBoostRegressor\n"
   ]
  },
  {
   "cell_type": "code",
   "execution_count": 96,
   "id": "0e48b36d",
   "metadata": {},
   "outputs": [],
   "source": [
    "df=pd.read_csv('datasets/final_merged_data.csv')"
   ]
  },
  {
   "cell_type": "code",
   "execution_count": 97,
   "id": "9d5c7f50",
   "metadata": {},
   "outputs": [],
   "source": [
    "df.dropna(inplace=True)"
   ]
  },
  {
   "cell_type": "code",
   "execution_count": 106,
   "id": "5fcdcbdd",
   "metadata": {},
   "outputs": [],
   "source": [
    "df.loc[62,'harvested acres']=92501\n",
    "df.loc[62,'yield']=5.46\n",
    "df.loc[62,'production']=505703\n",
    "df.loc[62,'price p/u']=403.16\n",
    "df.loc[62,'value']=203879000\n"
   ]
  },
  {
   "cell_type": "code",
   "execution_count": 89,
   "id": "36f3f4c4",
   "metadata": {
    "scrolled": false
   },
   "outputs": [
    {
     "data": {
      "text/html": [
       "<div>\n",
       "<style scoped>\n",
       "    .dataframe tbody tr th:only-of-type {\n",
       "        vertical-align: middle;\n",
       "    }\n",
       "\n",
       "    .dataframe tbody tr th {\n",
       "        vertical-align: top;\n",
       "    }\n",
       "\n",
       "    .dataframe thead th {\n",
       "        text-align: right;\n",
       "    }\n",
       "</style>\n",
       "<table border=\"1\" class=\"dataframe\">\n",
       "  <thead>\n",
       "    <tr style=\"text-align: right;\">\n",
       "      <th></th>\n",
       "      <th>year</th>\n",
       "      <th>county code</th>\n",
       "      <th>county</th>\n",
       "      <th>harvested acres</th>\n",
       "      <th>yield</th>\n",
       "      <th>production</th>\n",
       "      <th>price p/u</th>\n",
       "      <th>value</th>\n",
       "      <th>annual_precip</th>\n",
       "      <th>annual_tavg</th>\n",
       "      <th>annual_tmin</th>\n",
       "      <th>annual_tmax</th>\n",
       "      <th>annual_var</th>\n",
       "      <th>season_precip</th>\n",
       "      <th>season_tavg</th>\n",
       "      <th>season_tmin</th>\n",
       "      <th>season_tmax</th>\n",
       "      <th>season_var</th>\n",
       "    </tr>\n",
       "  </thead>\n",
       "  <tbody>\n",
       "    <tr>\n",
       "      <th>0</th>\n",
       "      <td>2000</td>\n",
       "      <td>19</td>\n",
       "      <td>Fresno</td>\n",
       "      <td>75139.0</td>\n",
       "      <td>11.12</td>\n",
       "      <td>835310.0</td>\n",
       "      <td>177.0</td>\n",
       "      <td>147550000</td>\n",
       "      <td>20.72</td>\n",
       "      <td>55.708333</td>\n",
       "      <td>31.4</td>\n",
       "      <td>87.1</td>\n",
       "      <td>59.4</td>\n",
       "      <td>3.44</td>\n",
       "      <td>65.416667</td>\n",
       "      <td>41.1</td>\n",
       "      <td>87.1</td>\n",
       "      <td>17.7</td>\n",
       "    </tr>\n",
       "    <tr>\n",
       "      <th>1</th>\n",
       "      <td>2000</td>\n",
       "      <td>39</td>\n",
       "      <td>Madera</td>\n",
       "      <td>56410.0</td>\n",
       "      <td>9.92</td>\n",
       "      <td>559563.0</td>\n",
       "      <td>186.0</td>\n",
       "      <td>103830000</td>\n",
       "      <td>25.89</td>\n",
       "      <td>56.516667</td>\n",
       "      <td>31.8</td>\n",
       "      <td>88.9</td>\n",
       "      <td>60.9</td>\n",
       "      <td>4.01</td>\n",
       "      <td>66.166667</td>\n",
       "      <td>41.0</td>\n",
       "      <td>88.9</td>\n",
       "      <td>18.2</td>\n",
       "    </tr>\n",
       "    <tr>\n",
       "      <th>2</th>\n",
       "      <td>2000</td>\n",
       "      <td>55</td>\n",
       "      <td>Napa</td>\n",
       "      <td>32365.0</td>\n",
       "      <td>4.23</td>\n",
       "      <td>136962.0</td>\n",
       "      <td>2464.0</td>\n",
       "      <td>337469000</td>\n",
       "      <td>31.24</td>\n",
       "      <td>59.266667</td>\n",
       "      <td>38.1</td>\n",
       "      <td>88.6</td>\n",
       "      <td>49.0</td>\n",
       "      <td>4.21</td>\n",
       "      <td>67.183333</td>\n",
       "      <td>45.2</td>\n",
       "      <td>88.6</td>\n",
       "      <td>12.2</td>\n",
       "    </tr>\n",
       "    <tr>\n",
       "      <th>3</th>\n",
       "      <td>2000</td>\n",
       "      <td>67</td>\n",
       "      <td>Sacramento</td>\n",
       "      <td>25024.0</td>\n",
       "      <td>7.10</td>\n",
       "      <td>177670.0</td>\n",
       "      <td>536.0</td>\n",
       "      <td>95231000</td>\n",
       "      <td>23.98</td>\n",
       "      <td>61.741667</td>\n",
       "      <td>38.8</td>\n",
       "      <td>91.8</td>\n",
       "      <td>56.5</td>\n",
       "      <td>3.45</td>\n",
       "      <td>70.716667</td>\n",
       "      <td>48.3</td>\n",
       "      <td>91.8</td>\n",
       "      <td>14.8</td>\n",
       "    </tr>\n",
       "    <tr>\n",
       "      <th>4</th>\n",
       "      <td>2000</td>\n",
       "      <td>77</td>\n",
       "      <td>San Joaquin</td>\n",
       "      <td>80711.0</td>\n",
       "      <td>7.74</td>\n",
       "      <td>624800.0</td>\n",
       "      <td>473.0</td>\n",
       "      <td>295793000</td>\n",
       "      <td>17.57</td>\n",
       "      <td>61.633333</td>\n",
       "      <td>38.1</td>\n",
       "      <td>91.6</td>\n",
       "      <td>55.1</td>\n",
       "      <td>2.22</td>\n",
       "      <td>70.400000</td>\n",
       "      <td>47.8</td>\n",
       "      <td>91.6</td>\n",
       "      <td>13.8</td>\n",
       "    </tr>\n",
       "  </tbody>\n",
       "</table>\n",
       "</div>"
      ],
      "text/plain": [
       "   year  county code       county  harvested acres  yield  production  \\\n",
       "0  2000           19       Fresno          75139.0  11.12    835310.0   \n",
       "1  2000           39       Madera          56410.0   9.92    559563.0   \n",
       "2  2000           55         Napa          32365.0   4.23    136962.0   \n",
       "3  2000           67   Sacramento          25024.0   7.10    177670.0   \n",
       "4  2000           77  San Joaquin          80711.0   7.74    624800.0   \n",
       "\n",
       "   price p/u      value  annual_precip  annual_tavg  annual_tmin  annual_tmax  \\\n",
       "0      177.0  147550000          20.72    55.708333         31.4         87.1   \n",
       "1      186.0  103830000          25.89    56.516667         31.8         88.9   \n",
       "2     2464.0  337469000          31.24    59.266667         38.1         88.6   \n",
       "3      536.0   95231000          23.98    61.741667         38.8         91.8   \n",
       "4      473.0  295793000          17.57    61.633333         38.1         91.6   \n",
       "\n",
       "   annual_var  season_precip  season_tavg  season_tmin  season_tmax  \\\n",
       "0        59.4           3.44    65.416667         41.1         87.1   \n",
       "1        60.9           4.01    66.166667         41.0         88.9   \n",
       "2        49.0           4.21    67.183333         45.2         88.6   \n",
       "3        56.5           3.45    70.716667         48.3         91.8   \n",
       "4        55.1           2.22    70.400000         47.8         91.6   \n",
       "\n",
       "   season_var  \n",
       "0        17.7  \n",
       "1        18.2  \n",
       "2        12.2  \n",
       "3        14.8  \n",
       "4        13.8  "
      ]
     },
     "execution_count": 89,
     "metadata": {},
     "output_type": "execute_result"
    }
   ],
   "source": [
    "df.head()"
   ]
  },
  {
   "cell_type": "markdown",
   "id": "9ad58af7",
   "metadata": {},
   "source": [
    "## Seasonal Variables"
   ]
  },
  {
   "cell_type": "code",
   "execution_count": 107,
   "id": "488ac856",
   "metadata": {},
   "outputs": [],
   "source": [
    "features=['season_var','season_tmax','season_tavg','season_precip','season_tmin']\n",
    "X=df[features]\n",
    "y=df['yield']"
   ]
  },
  {
   "cell_type": "code",
   "execution_count": 108,
   "id": "a74a9bd0",
   "metadata": {},
   "outputs": [],
   "source": [
    "X_train,X_test,y_train,y_test=train_test_split(X,y,random_state=42)"
   ]
  },
  {
   "cell_type": "code",
   "execution_count": 109,
   "id": "96ba0f3c",
   "metadata": {},
   "outputs": [],
   "source": [
    "ss=StandardScaler()\n",
    "ss.fit(X_train)\n",
    "X_train_sc=ss.transform(X_train)\n",
    "X_test_sc=ss.transform(X_test)"
   ]
  },
  {
   "cell_type": "markdown",
   "id": "127fcd5b",
   "metadata": {},
   "source": [
    "#### Linear Regression"
   ]
  },
  {
   "cell_type": "code",
   "execution_count": 110,
   "id": "c26cd3a2",
   "metadata": {},
   "outputs": [
    {
     "name": "stdout",
     "output_type": "stream",
     "text": [
      "Linear Regression Cross Val Score: 0.5015345612872876.\n",
      "Linear Regression Train Score: 0.5548197687267915.\n",
      "Linear Regression Test Score: 0.6069095921153396.\n"
     ]
    }
   ],
   "source": [
    "# Non scaled data\n",
    "lr=LinearRegression()\n",
    "lr.fit(X_train,y_train)\n",
    "\n",
    "cv_score=cross_val_score(lr,X_train,y_train).mean()\n",
    "train_score=lr.score(X_train,y_train)\n",
    "test_score=lr.score(X_test,y_test)\n",
    "\n",
    "print(f'Linear Regression Cross Val Score: {cv_score}.')\n",
    "print(f'Linear Regression Train Score: {train_score}.')\n",
    "print(f'Linear Regression Test Score: {test_score}.')"
   ]
  },
  {
   "cell_type": "code",
   "execution_count": 111,
   "id": "fd5aa1cc",
   "metadata": {},
   "outputs": [
    {
     "name": "stdout",
     "output_type": "stream",
     "text": [
      "Linear Regression Cross Val Score: 0.5015345612872878.\n",
      "Linear Regression Train Score: 0.5548197687267917.\n",
      "Linear Regression Test Score: 0.60690959211534.\n"
     ]
    }
   ],
   "source": [
    "# Scaled data\n",
    "lr=LinearRegression()\n",
    "lr.fit(X_train_sc,y_train)\n",
    "\n",
    "cv_score=cross_val_score(lr,X_train_sc,y_train).mean()\n",
    "train_score=lr.score(X_train_sc,y_train)\n",
    "test_score=lr.score(X_test_sc,y_test)\n",
    "\n",
    "print(f'Linear Regression Cross Val Score: {cv_score}.')\n",
    "print(f'Linear Regression Train Score: {train_score}.')\n",
    "print(f'Linear Regression Test Score: {test_score}.')"
   ]
  },
  {
   "cell_type": "markdown",
   "id": "b8bfe8e3",
   "metadata": {},
   "source": [
    "#### KNN"
   ]
  },
  {
   "cell_type": "code",
   "execution_count": 112,
   "id": "bf170d1c",
   "metadata": {},
   "outputs": [
    {
     "name": "stdout",
     "output_type": "stream",
     "text": [
      "KNN Cross Val Score: 0.6338470907884661.\n",
      "KNN Train Score: 0.7962225123717905.\n",
      "KNN Test Score: 0.7638996310477819.\n"
     ]
    }
   ],
   "source": [
    "knn=KNeighborsRegressor()\n",
    "knn.fit(X_train_sc,y_train)\n",
    "\n",
    "cv_score=cross_val_score(knn,X_train_sc,y_train).mean()\n",
    "train_score=knn.score(X_train_sc,y_train)\n",
    "test_score=knn.score(X_test_sc,y_test)\n",
    "\n",
    "print(f'KNN Cross Val Score: {cv_score}.')\n",
    "print(f'KNN Train Score: {train_score}.')\n",
    "print(f'KNN Test Score: {test_score}.')"
   ]
  },
  {
   "cell_type": "markdown",
   "id": "79a6541a",
   "metadata": {},
   "source": [
    "#### Random Forest"
   ]
  },
  {
   "cell_type": "code",
   "execution_count": 113,
   "id": "a94880a8",
   "metadata": {
    "scrolled": true
   },
   "outputs": [
    {
     "name": "stdout",
     "output_type": "stream",
     "text": [
      "Random Forest Cross Val Score: 0.647947419611304.\n",
      "Random Forest Train Score: 0.9565927937875535.\n",
      "Random Forest Test Score: 0.7348297740375442.\n"
     ]
    }
   ],
   "source": [
    "rf=RandomForestRegressor()\n",
    "rf.fit(X_train,y_train)\n",
    "\n",
    "cv_score=cross_val_score(rf,X_train,y_train).mean()\n",
    "train_score=rf.score(X_train,y_train)\n",
    "test_score=rf.score(X_test,y_test)\n",
    "\n",
    "print(f'Random Forest Cross Val Score: {cv_score}.')\n",
    "print(f'Random Forest Train Score: {train_score}.')\n",
    "print(f'Random Forest Test Score: {test_score}.')"
   ]
  },
  {
   "cell_type": "markdown",
   "id": "1415473d",
   "metadata": {},
   "source": [
    "#### Adaboost"
   ]
  },
  {
   "cell_type": "code",
   "execution_count": 114,
   "id": "4b695fc6",
   "metadata": {},
   "outputs": [
    {
     "name": "stdout",
     "output_type": "stream",
     "text": [
      "Adaboost Cross Val Score: 0.7285495856119517.\n",
      "Adaboost Train Score: 0.8974463873330079.\n",
      "Adaboost Test Score: 0.7848589029188677.\n"
     ]
    }
   ],
   "source": [
    "# Non scaled data\n",
    "ada=AdaBoostRegressor()\n",
    "ada.fit(X_train,y_train)\n",
    "\n",
    "cv_score=cross_val_score(ada,X_train,y_train).mean()\n",
    "train_score=ada.score(X_train,y_train)\n",
    "test_score=ada.score(X_test,y_test)\n",
    "\n",
    "print(f'Adaboost Cross Val Score: {cv_score}.')\n",
    "print(f'Adaboost Train Score: {train_score}.')\n",
    "print(f'Adaboost Test Score: {test_score}.')"
   ]
  },
  {
   "cell_type": "code",
   "execution_count": 115,
   "id": "8900ffd0",
   "metadata": {},
   "outputs": [
    {
     "name": "stdout",
     "output_type": "stream",
     "text": [
      "Adaboost Cross Val Score: 0.6811521756658064.\n",
      "Adaboost Train Score: 0.9051659769894032.\n",
      "Adaboost Test Score: 0.7683173062761891.\n"
     ]
    }
   ],
   "source": [
    "# Scaled data\n",
    "ada=AdaBoostRegressor()\n",
    "ada.fit(X_train_sc,y_train)\n",
    "\n",
    "cv_score=cross_val_score(ada,X_train_sc,y_train).mean()\n",
    "train_score=ada.score(X_train_sc,y_train)\n",
    "test_score=ada.score(X_test_sc,y_test)\n",
    "\n",
    "print(f'Adaboost Cross Val Score: {cv_score}.')\n",
    "print(f'Adaboost Train Score: {train_score}.')\n",
    "print(f'Adaboost Test Score: {test_score}.')"
   ]
  },
  {
   "cell_type": "markdown",
   "id": "df626c02",
   "metadata": {},
   "source": [
    "## Annual Variables"
   ]
  },
  {
   "cell_type": "code",
   "execution_count": 146,
   "id": "b47ab31d",
   "metadata": {},
   "outputs": [],
   "source": [
    "features=['annual_var','annual_tmax','season_precip','annual_tavg','annual_tmin']\n",
    "X=df[features]\n",
    "y=df['yield']"
   ]
  },
  {
   "cell_type": "code",
   "execution_count": 147,
   "id": "9c2d7723",
   "metadata": {},
   "outputs": [],
   "source": [
    "X_train,X_test,y_train,y_test=train_test_split(X,y,random_state=42)"
   ]
  },
  {
   "cell_type": "code",
   "execution_count": 148,
   "id": "f1a52450",
   "metadata": {},
   "outputs": [],
   "source": [
    "ss=StandardScaler()\n",
    "ss.fit(X_train)\n",
    "X_train_sc=ss.transform(X_train)\n",
    "X_test_sc=ss.transform(X_test)"
   ]
  },
  {
   "cell_type": "markdown",
   "id": "1a1998dc",
   "metadata": {},
   "source": [
    "#### Linear Regression"
   ]
  },
  {
   "cell_type": "code",
   "execution_count": 119,
   "id": "f209f465",
   "metadata": {},
   "outputs": [
    {
     "name": "stdout",
     "output_type": "stream",
     "text": [
      "Linear Regression Cross Val Score: 0.5603893312744276.\n",
      "Linear Regression Train Score: 0.6045624743537759.\n",
      "Linear Regression Test Score: 0.5441176194359933.\n"
     ]
    }
   ],
   "source": [
    "# Non scaled data\n",
    "lr=LinearRegression()\n",
    "lr.fit(X_train,y_train)\n",
    "\n",
    "cv_score=cross_val_score(lr,X_train,y_train).mean()\n",
    "train_score=lr.score(X_train,y_train)\n",
    "test_score=lr.score(X_test,y_test)\n",
    "\n",
    "print(f'Linear Regression Cross Val Score: {cv_score}.')\n",
    "print(f'Linear Regression Train Score: {train_score}.')\n",
    "print(f'Linear Regression Test Score: {test_score}.')"
   ]
  },
  {
   "cell_type": "code",
   "execution_count": 120,
   "id": "820f967f",
   "metadata": {},
   "outputs": [
    {
     "name": "stdout",
     "output_type": "stream",
     "text": [
      "Linear Regression Cross Val Score: 0.5603893312744274.\n",
      "Linear Regression Train Score: 0.6045624743537759.\n",
      "Linear Regression Test Score: 0.5441176194359933.\n"
     ]
    }
   ],
   "source": [
    "# Scaled data\n",
    "lr=LinearRegression()\n",
    "lr.fit(X_train_sc,y_train)\n",
    "\n",
    "cv_score=cross_val_score(lr,X_train_sc,y_train).mean()\n",
    "train_score=lr.score(X_train_sc,y_train)\n",
    "test_score=lr.score(X_test_sc,y_test)\n",
    "\n",
    "print(f'Linear Regression Cross Val Score: {cv_score}.')\n",
    "print(f'Linear Regression Train Score: {train_score}.')\n",
    "print(f'Linear Regression Test Score: {test_score}.')"
   ]
  },
  {
   "cell_type": "markdown",
   "id": "0568ae3d",
   "metadata": {},
   "source": [
    "#### KNN"
   ]
  },
  {
   "cell_type": "code",
   "execution_count": 121,
   "id": "0e6b0d5b",
   "metadata": {},
   "outputs": [
    {
     "name": "stdout",
     "output_type": "stream",
     "text": [
      "KNN Cross Val Score: 0.7954383866258506.\n",
      "KNN Train Score: 0.8812308113834669.\n",
      "KNN Test Score: 0.7433582599379942.\n"
     ]
    }
   ],
   "source": [
    "knn=KNeighborsRegressor()\n",
    "knn.fit(X_train_sc,y_train)\n",
    "\n",
    "cv_score=cross_val_score(knn,X_train_sc,y_train).mean()\n",
    "train_score=knn.score(X_train_sc,y_train)\n",
    "test_score=knn.score(X_test_sc,y_test)\n",
    "\n",
    "print(f'KNN Cross Val Score: {cv_score}.')\n",
    "print(f'KNN Train Score: {train_score}.')\n",
    "print(f'KNN Test Score: {test_score}.')"
   ]
  },
  {
   "cell_type": "markdown",
   "id": "beadecc2",
   "metadata": {},
   "source": [
    "#### Random Forest"
   ]
  },
  {
   "cell_type": "code",
   "execution_count": 151,
   "id": "4ce2f341",
   "metadata": {
    "scrolled": true
   },
   "outputs": [
    {
     "name": "stdout",
     "output_type": "stream",
     "text": [
      "Random Forest Cross Val Score: 0.7217427167109157.\n",
      "Random Forest Train Score: 0.9606815119607391.\n",
      "Random Forest Test Score: 0.6981442526575462.\n"
     ]
    }
   ],
   "source": [
    "rf=RandomForestRegressor()\n",
    "rf.fit(X_train,y_train)\n",
    "\n",
    "cv_score=cross_val_score(rf,X_train,y_train).mean()\n",
    "train_score=rf.score(X_train,y_train)\n",
    "test_score=rf.score(X_test,y_test)\n",
    "\n",
    "print(f'Random Forest Cross Val Score: {cv_score}.')\n",
    "print(f'Random Forest Train Score: {train_score}.')\n",
    "print(f'Random Forest Test Score: {test_score}.')"
   ]
  },
  {
   "cell_type": "markdown",
   "id": "cf7e010f",
   "metadata": {},
   "source": [
    "#### Adaboost"
   ]
  },
  {
   "cell_type": "code",
   "execution_count": 149,
   "id": "4ff0ae65",
   "metadata": {},
   "outputs": [
    {
     "name": "stdout",
     "output_type": "stream",
     "text": [
      "Adaboost Cross Val Score: 0.7209859662675722.\n",
      "Adaboost Train Score: 0.9064548211306496.\n",
      "Adaboost Test Score: 0.6372698415435888.\n"
     ]
    }
   ],
   "source": [
    "# Non scaled data\n",
    "ada=AdaBoostRegressor()\n",
    "ada.fit(X_train,y_train)\n",
    "\n",
    "cv_score=cross_val_score(ada,X_train,y_train).mean()\n",
    "train_score=ada.score(X_train,y_train)\n",
    "test_score=ada.score(X_test,y_test)\n",
    "\n",
    "print(f'Adaboost Cross Val Score: {cv_score}.')\n",
    "print(f'Adaboost Train Score: {train_score}.')\n",
    "print(f'Adaboost Test Score: {test_score}.')"
   ]
  },
  {
   "cell_type": "code",
   "execution_count": 150,
   "id": "05066913",
   "metadata": {},
   "outputs": [
    {
     "name": "stdout",
     "output_type": "stream",
     "text": [
      "Adaboost Cross Val Score: 0.7235860387426281.\n",
      "Adaboost Train Score: 0.9035090233113383.\n",
      "Adaboost Test Score: 0.6652019142563588.\n"
     ]
    }
   ],
   "source": [
    "# Scaled data\n",
    "ada=AdaBoostRegressor()\n",
    "ada.fit(X_train_sc,y_train)\n",
    "\n",
    "cv_score=cross_val_score(ada,X_train_sc,y_train).mean()\n",
    "train_score=ada.score(X_train_sc,y_train)\n",
    "test_score=ada.score(X_test_sc,y_test)\n",
    "\n",
    "print(f'Adaboost Cross Val Score: {cv_score}.')\n",
    "print(f'Adaboost Train Score: {train_score}.')\n",
    "print(f'Adaboost Test Score: {test_score}.')"
   ]
  },
  {
   "cell_type": "code",
   "execution_count": null,
   "id": "80d1a948",
   "metadata": {},
   "outputs": [],
   "source": []
  },
  {
   "cell_type": "markdown",
   "id": "b60037d8",
   "metadata": {},
   "source": [
    "## All Variables"
   ]
  },
  {
   "cell_type": "code",
   "execution_count": 125,
   "id": "9a518dc2",
   "metadata": {},
   "outputs": [],
   "source": [
    "features=['annual_var','annual_tmax','season_precip','annual_tavg','annual_tmin','season_var','season_tmax','season_tavg','season_precip','season_tmin']\n",
    "X=df[features]\n",
    "y=df['yield']"
   ]
  },
  {
   "cell_type": "code",
   "execution_count": 126,
   "id": "3111017f",
   "metadata": {},
   "outputs": [],
   "source": [
    "X_train,X_test,y_train,y_test=train_test_split(X,y,random_state=42)"
   ]
  },
  {
   "cell_type": "code",
   "execution_count": 127,
   "id": "71312ffc",
   "metadata": {},
   "outputs": [],
   "source": [
    "ss=StandardScaler()\n",
    "ss.fit(X_train)\n",
    "X_train_sc=ss.transform(X_train)\n",
    "X_test_sc=ss.transform(X_test)"
   ]
  },
  {
   "cell_type": "markdown",
   "id": "0045bbbb",
   "metadata": {},
   "source": [
    "#### Linear Regression"
   ]
  },
  {
   "cell_type": "code",
   "execution_count": 128,
   "id": "ec237744",
   "metadata": {},
   "outputs": [
    {
     "name": "stdout",
     "output_type": "stream",
     "text": [
      "Linear Regression Cross Val Score: 0.702692980822067.\n",
      "Linear Regression Train Score: 0.7417912620548012.\n",
      "Linear Regression Test Score: 0.7546505889284679.\n"
     ]
    }
   ],
   "source": [
    "# Non scaled data\n",
    "lr=LinearRegression()\n",
    "lr.fit(X_train,y_train)\n",
    "\n",
    "cv_score=cross_val_score(lr,X_train,y_train).mean()\n",
    "train_score=lr.score(X_train,y_train)\n",
    "test_score=lr.score(X_test,y_test)\n",
    "\n",
    "print(f'Linear Regression Cross Val Score: {cv_score}.')\n",
    "print(f'Linear Regression Train Score: {train_score}.')\n",
    "print(f'Linear Regression Test Score: {test_score}.')"
   ]
  },
  {
   "cell_type": "code",
   "execution_count": 129,
   "id": "b1fe2c25",
   "metadata": {},
   "outputs": [
    {
     "name": "stdout",
     "output_type": "stream",
     "text": [
      "Linear Regression Cross Val Score: 0.7026929808220682.\n",
      "Linear Regression Train Score: 0.7417912620548013.\n",
      "Linear Regression Test Score: 0.7546505889284676.\n"
     ]
    }
   ],
   "source": [
    "# Scaled data\n",
    "lr=LinearRegression()\n",
    "lr.fit(X_train_sc,y_train)\n",
    "\n",
    "cv_score=cross_val_score(lr,X_train_sc,y_train).mean()\n",
    "train_score=lr.score(X_train_sc,y_train)\n",
    "test_score=lr.score(X_test_sc,y_test)\n",
    "\n",
    "print(f'Linear Regression Cross Val Score: {cv_score}.')\n",
    "print(f'Linear Regression Train Score: {train_score}.')\n",
    "print(f'Linear Regression Test Score: {test_score}.')"
   ]
  },
  {
   "cell_type": "markdown",
   "id": "2d0b36a3",
   "metadata": {},
   "source": [
    "#### KNN"
   ]
  },
  {
   "cell_type": "code",
   "execution_count": 130,
   "id": "3b2e40c2",
   "metadata": {},
   "outputs": [
    {
     "name": "stdout",
     "output_type": "stream",
     "text": [
      "KNN Cross Val Score: 0.8072432619450793.\n",
      "KNN Train Score: 0.9037245260145841.\n",
      "KNN Test Score: 0.7955130048055834.\n"
     ]
    }
   ],
   "source": [
    "knn=KNeighborsRegressor()\n",
    "knn.fit(X_train_sc,y_train)\n",
    "\n",
    "cv_score=cross_val_score(knn,X_train_sc,y_train).mean()\n",
    "train_score=knn.score(X_train_sc,y_train)\n",
    "test_score=knn.score(X_test_sc,y_test)\n",
    "\n",
    "print(f'KNN Cross Val Score: {cv_score}.')\n",
    "print(f'KNN Train Score: {train_score}.')\n",
    "print(f'KNN Test Score: {test_score}.')"
   ]
  },
  {
   "cell_type": "markdown",
   "id": "993db75c",
   "metadata": {},
   "source": [
    "#### Random Forest"
   ]
  },
  {
   "cell_type": "code",
   "execution_count": 132,
   "id": "43fd9ba5",
   "metadata": {
    "scrolled": true
   },
   "outputs": [
    {
     "name": "stdout",
     "output_type": "stream",
     "text": [
      "Random Forest Cross Val Score: 0.758244812665453.\n",
      "Random Forest Train Score: 0.9637293490248898.\n",
      "Random Forest Test Score: 0.7269814203547217.\n"
     ]
    }
   ],
   "source": [
    "rf=RandomForestRegressor()\n",
    "rf.fit(X_train,y_train)\n",
    "\n",
    "cv_score=cross_val_score(rf,X_train,y_train).mean()\n",
    "train_score=rf.score(X_train,y_train)\n",
    "test_score=rf.score(X_test,y_test)\n",
    "\n",
    "print(f'Random Forest Cross Val Score: {cv_score}.')\n",
    "print(f'Random Forest Train Score: {train_score}.')\n",
    "print(f'Random Forest Test Score: {test_score}.')"
   ]
  },
  {
   "cell_type": "markdown",
   "id": "3679ef20",
   "metadata": {},
   "source": [
    "#### Adaboost"
   ]
  },
  {
   "cell_type": "code",
   "execution_count": 133,
   "id": "51f629e5",
   "metadata": {},
   "outputs": [
    {
     "name": "stdout",
     "output_type": "stream",
     "text": [
      "Adaboost Cross Val Score: 0.7602685321369124.\n",
      "Adaboost Train Score: 0.923728275563786.\n",
      "Adaboost Test Score: 0.65739145105337.\n"
     ]
    }
   ],
   "source": [
    "# Non scaled data\n",
    "ada=AdaBoostRegressor()\n",
    "ada.fit(X_train,y_train)\n",
    "\n",
    "cv_score=cross_val_score(ada,X_train,y_train).mean()\n",
    "train_score=ada.score(X_train,y_train)\n",
    "test_score=ada.score(X_test,y_test)\n",
    "\n",
    "print(f'Adaboost Cross Val Score: {cv_score}.')\n",
    "print(f'Adaboost Train Score: {train_score}.')\n",
    "print(f'Adaboost Test Score: {test_score}.')"
   ]
  },
  {
   "cell_type": "code",
   "execution_count": 134,
   "id": "f8fb2f84",
   "metadata": {},
   "outputs": [
    {
     "name": "stdout",
     "output_type": "stream",
     "text": [
      "Adaboost Cross Val Score: 0.7596927386338798.\n",
      "Adaboost Train Score: 0.92242892348456.\n",
      "Adaboost Test Score: 0.6707533111494426.\n"
     ]
    }
   ],
   "source": [
    "# Scaled data\n",
    "ada=AdaBoostRegressor()\n",
    "ada.fit(X_train_sc,y_train)\n",
    "\n",
    "cv_score=cross_val_score(ada,X_train_sc,y_train).mean()\n",
    "train_score=ada.score(X_train_sc,y_train)\n",
    "test_score=ada.score(X_test_sc,y_test)\n",
    "\n",
    "print(f'Adaboost Cross Val Score: {cv_score}.')\n",
    "print(f'Adaboost Train Score: {train_score}.')\n",
    "print(f'Adaboost Test Score: {test_score}.')"
   ]
  },
  {
   "cell_type": "markdown",
   "id": "7a3cb490",
   "metadata": {},
   "source": [
    "## Seasonal Variables w/ County Dummies"
   ]
  },
  {
   "cell_type": "code",
   "execution_count": 135,
   "id": "600b694a",
   "metadata": {},
   "outputs": [],
   "source": [
    "df_dummies=pd.get_dummies(df, columns=['county'], drop_first=True)"
   ]
  },
  {
   "cell_type": "code",
   "execution_count": 136,
   "id": "3092819e",
   "metadata": {
    "scrolled": true
   },
   "outputs": [
    {
     "data": {
      "text/html": [
       "<div>\n",
       "<style scoped>\n",
       "    .dataframe tbody tr th:only-of-type {\n",
       "        vertical-align: middle;\n",
       "    }\n",
       "\n",
       "    .dataframe tbody tr th {\n",
       "        vertical-align: top;\n",
       "    }\n",
       "\n",
       "    .dataframe thead th {\n",
       "        text-align: right;\n",
       "    }\n",
       "</style>\n",
       "<table border=\"1\" class=\"dataframe\">\n",
       "  <thead>\n",
       "    <tr style=\"text-align: right;\">\n",
       "      <th></th>\n",
       "      <th>year</th>\n",
       "      <th>county code</th>\n",
       "      <th>harvested acres</th>\n",
       "      <th>yield</th>\n",
       "      <th>production</th>\n",
       "      <th>price p/u</th>\n",
       "      <th>value</th>\n",
       "      <th>annual_precip</th>\n",
       "      <th>annual_tavg</th>\n",
       "      <th>annual_tmin</th>\n",
       "      <th>...</th>\n",
       "      <th>season_var</th>\n",
       "      <th>county_Madera</th>\n",
       "      <th>county_Monterey</th>\n",
       "      <th>county_Napa</th>\n",
       "      <th>county_Sacramento</th>\n",
       "      <th>county_San Joaquin</th>\n",
       "      <th>county_San Luis Obispo</th>\n",
       "      <th>county_Santa Barbara</th>\n",
       "      <th>county_Sonoma</th>\n",
       "      <th>county_Yolo</th>\n",
       "    </tr>\n",
       "  </thead>\n",
       "  <tbody>\n",
       "    <tr>\n",
       "      <th>0</th>\n",
       "      <td>2000</td>\n",
       "      <td>19</td>\n",
       "      <td>75139.0</td>\n",
       "      <td>11.12</td>\n",
       "      <td>835310.0</td>\n",
       "      <td>177.0</td>\n",
       "      <td>147550000</td>\n",
       "      <td>20.72</td>\n",
       "      <td>55.708333</td>\n",
       "      <td>31.4</td>\n",
       "      <td>...</td>\n",
       "      <td>17.7</td>\n",
       "      <td>0</td>\n",
       "      <td>0</td>\n",
       "      <td>0</td>\n",
       "      <td>0</td>\n",
       "      <td>0</td>\n",
       "      <td>0</td>\n",
       "      <td>0</td>\n",
       "      <td>0</td>\n",
       "      <td>0</td>\n",
       "    </tr>\n",
       "    <tr>\n",
       "      <th>1</th>\n",
       "      <td>2000</td>\n",
       "      <td>39</td>\n",
       "      <td>56410.0</td>\n",
       "      <td>9.92</td>\n",
       "      <td>559563.0</td>\n",
       "      <td>186.0</td>\n",
       "      <td>103830000</td>\n",
       "      <td>25.89</td>\n",
       "      <td>56.516667</td>\n",
       "      <td>31.8</td>\n",
       "      <td>...</td>\n",
       "      <td>18.2</td>\n",
       "      <td>1</td>\n",
       "      <td>0</td>\n",
       "      <td>0</td>\n",
       "      <td>0</td>\n",
       "      <td>0</td>\n",
       "      <td>0</td>\n",
       "      <td>0</td>\n",
       "      <td>0</td>\n",
       "      <td>0</td>\n",
       "    </tr>\n",
       "    <tr>\n",
       "      <th>2</th>\n",
       "      <td>2000</td>\n",
       "      <td>55</td>\n",
       "      <td>32365.0</td>\n",
       "      <td>4.23</td>\n",
       "      <td>136962.0</td>\n",
       "      <td>2464.0</td>\n",
       "      <td>337469000</td>\n",
       "      <td>31.24</td>\n",
       "      <td>59.266667</td>\n",
       "      <td>38.1</td>\n",
       "      <td>...</td>\n",
       "      <td>12.2</td>\n",
       "      <td>0</td>\n",
       "      <td>0</td>\n",
       "      <td>1</td>\n",
       "      <td>0</td>\n",
       "      <td>0</td>\n",
       "      <td>0</td>\n",
       "      <td>0</td>\n",
       "      <td>0</td>\n",
       "      <td>0</td>\n",
       "    </tr>\n",
       "    <tr>\n",
       "      <th>3</th>\n",
       "      <td>2000</td>\n",
       "      <td>67</td>\n",
       "      <td>25024.0</td>\n",
       "      <td>7.10</td>\n",
       "      <td>177670.0</td>\n",
       "      <td>536.0</td>\n",
       "      <td>95231000</td>\n",
       "      <td>23.98</td>\n",
       "      <td>61.741667</td>\n",
       "      <td>38.8</td>\n",
       "      <td>...</td>\n",
       "      <td>14.8</td>\n",
       "      <td>0</td>\n",
       "      <td>0</td>\n",
       "      <td>0</td>\n",
       "      <td>1</td>\n",
       "      <td>0</td>\n",
       "      <td>0</td>\n",
       "      <td>0</td>\n",
       "      <td>0</td>\n",
       "      <td>0</td>\n",
       "    </tr>\n",
       "    <tr>\n",
       "      <th>4</th>\n",
       "      <td>2000</td>\n",
       "      <td>77</td>\n",
       "      <td>80711.0</td>\n",
       "      <td>7.74</td>\n",
       "      <td>624800.0</td>\n",
       "      <td>473.0</td>\n",
       "      <td>295793000</td>\n",
       "      <td>17.57</td>\n",
       "      <td>61.633333</td>\n",
       "      <td>38.1</td>\n",
       "      <td>...</td>\n",
       "      <td>13.8</td>\n",
       "      <td>0</td>\n",
       "      <td>0</td>\n",
       "      <td>0</td>\n",
       "      <td>0</td>\n",
       "      <td>1</td>\n",
       "      <td>0</td>\n",
       "      <td>0</td>\n",
       "      <td>0</td>\n",
       "      <td>0</td>\n",
       "    </tr>\n",
       "  </tbody>\n",
       "</table>\n",
       "<p>5 rows × 26 columns</p>\n",
       "</div>"
      ],
      "text/plain": [
       "   year  county code  harvested acres  yield  production  price p/u  \\\n",
       "0  2000           19          75139.0  11.12    835310.0      177.0   \n",
       "1  2000           39          56410.0   9.92    559563.0      186.0   \n",
       "2  2000           55          32365.0   4.23    136962.0     2464.0   \n",
       "3  2000           67          25024.0   7.10    177670.0      536.0   \n",
       "4  2000           77          80711.0   7.74    624800.0      473.0   \n",
       "\n",
       "       value  annual_precip  annual_tavg  annual_tmin  ...  season_var  \\\n",
       "0  147550000          20.72    55.708333         31.4  ...        17.7   \n",
       "1  103830000          25.89    56.516667         31.8  ...        18.2   \n",
       "2  337469000          31.24    59.266667         38.1  ...        12.2   \n",
       "3   95231000          23.98    61.741667         38.8  ...        14.8   \n",
       "4  295793000          17.57    61.633333         38.1  ...        13.8   \n",
       "\n",
       "   county_Madera  county_Monterey  county_Napa  county_Sacramento  \\\n",
       "0              0                0            0                  0   \n",
       "1              1                0            0                  0   \n",
       "2              0                0            1                  0   \n",
       "3              0                0            0                  1   \n",
       "4              0                0            0                  0   \n",
       "\n",
       "   county_San Joaquin  county_San Luis Obispo  county_Santa Barbara  \\\n",
       "0                   0                       0                     0   \n",
       "1                   0                       0                     0   \n",
       "2                   0                       0                     0   \n",
       "3                   0                       0                     0   \n",
       "4                   1                       0                     0   \n",
       "\n",
       "   county_Sonoma  county_Yolo  \n",
       "0              0            0  \n",
       "1              0            0  \n",
       "2              0            0  \n",
       "3              0            0  \n",
       "4              0            0  \n",
       "\n",
       "[5 rows x 26 columns]"
      ]
     },
     "execution_count": 136,
     "metadata": {},
     "output_type": "execute_result"
    }
   ],
   "source": [
    "df_dummies.head()"
   ]
  },
  {
   "cell_type": "code",
   "execution_count": 152,
   "id": "48797652",
   "metadata": {},
   "outputs": [],
   "source": [
    "correlation=df_dummies.drop(columns=['year','county code','harvested acres','production','price p/u','value']).corr()\n"
   ]
  },
  {
   "cell_type": "code",
   "execution_count": 156,
   "id": "1cf55cb9",
   "metadata": {},
   "outputs": [
    {
     "data": {
      "image/png": "[encoded data removed]",
      "text/plain": [
       "<Figure size 432x288 with 2 Axes>"
      ]
     },
     "metadata": {
      "needs_background": "light"
     },
     "output_type": "display_data"
    }
   ],
   "source": [
    "sns.heatmap(correlation[['yield']].sort_values('yield',ascending=False), vmin= -1, vmax=1, annot=True);\n"
   ]
  },
  {
   "cell_type": "code",
   "execution_count": 137,
   "id": "1d44063e",
   "metadata": {},
   "outputs": [],
   "source": [
    "season_cols=[col for col in df_dummies.columns if col.startswith('season')]\n",
    "count_cols=[col for col in df_dummies.columns if col.startswith('county_')]"
   ]
  },
  {
   "cell_type": "code",
   "execution_count": 138,
   "id": "af896947",
   "metadata": {},
   "outputs": [],
   "source": [
    "features=season_cols+count_cols\n",
    "features\n",
    "X=df_dummies[features]\n",
    "y=df_dummies['yield']"
   ]
  },
  {
   "cell_type": "code",
   "execution_count": 139,
   "id": "a993b0b9",
   "metadata": {},
   "outputs": [],
   "source": [
    "X_train,X_test,y_train,y_test=train_test_split(X,y,random_state=42)"
   ]
  },
  {
   "cell_type": "code",
   "execution_count": 140,
   "id": "05460424",
   "metadata": {},
   "outputs": [],
   "source": [
    "ss=StandardScaler()\n",
    "ss.fit(X_train)\n",
    "X_train_sc=ss.transform(X_train)\n",
    "X_test_sc=ss.transform(X_test)"
   ]
  },
  {
   "cell_type": "markdown",
   "id": "04606f67",
   "metadata": {},
   "source": [
    "#### Linear Regression"
   ]
  },
  {
   "cell_type": "code",
   "execution_count": 141,
   "id": "d3d0bbf6",
   "metadata": {},
   "outputs": [
    {
     "name": "stdout",
     "output_type": "stream",
     "text": [
      "Linear Regression Cross Val Score: 0.8470056367581705.\n",
      "Linear Regression Train Score: 0.8879358727009324.\n",
      "Linear Regression Test Score: 0.8889700569856058.\n"
     ]
    }
   ],
   "source": [
    "# Non scaled data\n",
    "lr=LinearRegression()\n",
    "lr.fit(X_train,y_train)\n",
    "\n",
    "cv_score=cross_val_score(lr,X_train,y_train).mean()\n",
    "train_score=lr.score(X_train,y_train)\n",
    "test_score=lr.score(X_test,y_test)\n",
    "\n",
    "print(f'Linear Regression Cross Val Score: {cv_score}.')\n",
    "print(f'Linear Regression Train Score: {train_score}.')\n",
    "print(f'Linear Regression Test Score: {test_score}.')"
   ]
  },
  {
   "cell_type": "code",
   "execution_count": 142,
   "id": "644c4ee3",
   "metadata": {},
   "outputs": [
    {
     "name": "stdout",
     "output_type": "stream",
     "text": [
      "Linear Regression Cross Val Score: 0.8470056367581711.\n",
      "Linear Regression Train Score: 0.8879358727009324.\n",
      "Linear Regression Test Score: 0.8889700569856056.\n"
     ]
    }
   ],
   "source": [
    "# Scaled data\n",
    "lr=LinearRegression()\n",
    "lr.fit(X_train_sc,y_train)\n",
    "\n",
    "cv_score=cross_val_score(lr,X_train_sc,y_train).mean()\n",
    "train_score=lr.score(X_train_sc,y_train)\n",
    "test_score=lr.score(X_test_sc,y_test)\n",
    "\n",
    "print(f'Linear Regression Cross Val Score: {cv_score}.')\n",
    "print(f'Linear Regression Train Score: {train_score}.')\n",
    "print(f'Linear Regression Test Score: {test_score}.')"
   ]
  },
  {
   "cell_type": "markdown",
   "id": "8b284c3a",
   "metadata": {},
   "source": [
    "#### KNN"
   ]
  },
  {
   "cell_type": "code",
   "execution_count": 143,
   "id": "1ea9069c",
   "metadata": {},
   "outputs": [
    {
     "name": "stdout",
     "output_type": "stream",
     "text": [
      "KNN Cross Val Score: 0.8422098950091765.\n",
      "KNN Train Score: 0.9002674187342772.\n",
      "KNN Test Score: 0.8629037027630089.\n"
     ]
    }
   ],
   "source": [
    "knn=KNeighborsRegressor()\n",
    "knn.fit(X_train_sc,y_train)\n",
    "\n",
    "cv_score=cross_val_score(knn,X_train_sc,y_train).mean()\n",
    "train_score=knn.score(X_train_sc,y_train)\n",
    "test_score=knn.score(X_test_sc,y_test)\n",
    "\n",
    "print(f'KNN Cross Val Score: {cv_score}.')\n",
    "print(f'KNN Train Score: {train_score}.')\n",
    "print(f'KNN Test Score: {test_score}.')"
   ]
  },
  {
   "cell_type": "markdown",
   "id": "ac892d4e",
   "metadata": {},
   "source": [
    "#### Random Forest"
   ]
  },
  {
   "cell_type": "code",
   "execution_count": 144,
   "id": "bff1d162",
   "metadata": {
    "scrolled": true
   },
   "outputs": [
    {
     "name": "stdout",
     "output_type": "stream",
     "text": [
      "Random Forest Cross Val Score: 0.6311672340089315.\n",
      "Random Forest Train Score: 0.9536374453333187.\n",
      "Random Forest Test Score: 0.7261577153024925.\n"
     ]
    }
   ],
   "source": [
    "rf=RandomForestRegressor()\n",
    "rf.fit(X_train,y_train)\n",
    "\n",
    "cv_score=cross_val_score(rf,X_train,y_train).mean()\n",
    "train_score=rf.score(X_train,y_train)\n",
    "test_score=rf.score(X_test,y_test)\n",
    "\n",
    "print(f'Random Forest Cross Val Score: {cv_score}.')\n",
    "print(f'Random Forest Train Score: {train_score}.')\n",
    "print(f'Random Forest Test Score: {test_score}.')"
   ]
  },
  {
   "cell_type": "markdown",
   "id": "7098f3de",
   "metadata": {},
   "source": [
    "#### Adaboost"
   ]
  },
  {
   "cell_type": "code",
   "execution_count": 145,
   "id": "137edcde",
   "metadata": {},
   "outputs": [
    {
     "name": "stdout",
     "output_type": "stream",
     "text": [
      "Adaboost Cross Val Score: 0.6892266335809977.\n",
      "Adaboost Train Score: 0.9072989564771858.\n",
      "Adaboost Test Score: 0.78907166817903.\n"
     ]
    }
   ],
   "source": [
    "# Non scaled data\n",
    "ada=AdaBoostRegressor()\n",
    "ada.fit(X_train,y_train)\n",
    "\n",
    "cv_score=cross_val_score(ada,X_train,y_train).mean()\n",
    "train_score=ada.score(X_train,y_train)\n",
    "test_score=ada.score(X_test,y_test)\n",
    "\n",
    "print(f'Adaboost Cross Val Score: {cv_score}.')\n",
    "print(f'Adaboost Train Score: {train_score}.')\n",
    "print(f'Adaboost Test Score: {test_score}.')"
   ]
  },
  {
   "cell_type": "code",
   "execution_count": 82,
   "id": "da3194c3",
   "metadata": {},
   "outputs": [
    {
     "name": "stdout",
     "output_type": "stream",
     "text": [
      "Adaboost Cross Val Score: 0.657197210982521.\n",
      "Adaboost Train Score: 0.838650904754402.\n",
      "Adaboost Test Score: 0.7371499920034414.\n"
     ]
    }
   ],
   "source": [
    "# Scaled data\n",
    "ada=AdaBoostRegressor()\n",
    "ada.fit(X_train_sc,y_train)\n",
    "\n",
    "cv_score=cross_val_score(ada,X_train_sc,y_train).mean()\n",
    "train_score=ada.score(X_train_sc,y_train)\n",
    "test_score=ada.score(X_test_sc,y_test)\n",
    "\n",
    "print(f'Adaboost Cross Val Score: {cv_score}.')\n",
    "print(f'Adaboost Train Score: {train_score}.')\n",
    "print(f'Adaboost Test Score: {test_score}.')"
   ]
  },
  {
   "cell_type": "code",
   "execution_count": null,
   "id": "bd6a6dc6",
   "metadata": {},
   "outputs": [],
   "source": []
  }
 ],
 "metadata": {
  "kernelspec": {
   "display_name": "Python 3 (ipykernel)",
   "language": "python",
   "name": "python3"
  },
  "language_info": {
   "codemirror_mode": {
    "name": "ipython",
    "version": 3
   },
   "file_extension": ".py",
   "mimetype": "text/x-python",
   "name": "python",
   "nbconvert_exporter": "python",
   "pygments_lexer": "ipython3",
   "version": "3.9.7"
  }
 },
 "nbformat": 4,
 "nbformat_minor": 5
}
