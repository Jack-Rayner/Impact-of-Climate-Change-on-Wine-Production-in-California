{
 "cells": [
  {
   "cell_type": "code",
   "execution_count": 326,
   "id": "9ce3124d",
   "metadata": {},
   "outputs": [],
   "source": [
    "import pandas as pd\n",
    "import numpy as np\n",
    "import matplotlib.pyplot as plt\n",
    "import seaborn as sns\n",
    "\n",
    "import sklearn.metrics as metrics\n",
    "from sklearn.linear_model import LinearRegression\n",
    "from sklearn.model_selection import train_test_split, cross_val_score\n",
    "from sklearn.preprocessing import PolynomialFeatures, StandardScaler\n",
    "from sklearn.linear_model import Lasso, LassoCV\n",
    "\n"
   ]
  },
  {
   "cell_type": "code",
   "execution_count": 327,
   "id": "77237af2",
   "metadata": {},
   "outputs": [],
   "source": [
    "df = pd.read_csv('./datasets/final_merged_data.csv')"
   ]
  },
  {
   "cell_type": "markdown",
   "id": "e4652045",
   "metadata": {},
   "source": [
    "## Model 1 - Yield | All County"
   ]
  },
  {
   "cell_type": "code",
   "execution_count": 328,
   "id": "4c3751ed",
   "metadata": {},
   "outputs": [],
   "source": [
    "counties_yield = df.drop(columns=['production', 'harvested acres', 'price p/u']) "
   ]
  },
  {
   "cell_type": "code",
   "execution_count": 329,
   "id": "c43c8711",
   "metadata": {},
   "outputs": [
    {
     "data": {
      "text/plain": [
       "year              0\n",
       "county code       0\n",
       "county            0\n",
       "yield             0\n",
       "value             0\n",
       "annual_precip     0\n",
       "annual_tavg       0\n",
       "annual_tmin       0\n",
       "annual_tmax       0\n",
       "annual_var        0\n",
       "season_precip     0\n",
       "season_tavg      10\n",
       "season_tmin      10\n",
       "season_tmax      10\n",
       "season_var        0\n",
       "dtype: int64"
      ]
     },
     "execution_count": 329,
     "metadata": {},
     "output_type": "execute_result"
    }
   ],
   "source": [
    "counties_yield.isnull().sum()"
   ]
  },
  {
   "cell_type": "code",
   "execution_count": 330,
   "id": "7aa8c73a",
   "metadata": {},
   "outputs": [],
   "source": [
    "counties_yield.dropna(inplace=True) "
   ]
  },
  {
   "cell_type": "code",
   "execution_count": 331,
   "id": "aa78b447",
   "metadata": {},
   "outputs": [],
   "source": [
    "# #now I would like to bootsrapping to increase sample size by 1_000\n",
    "# sample = counties_yield.sample(n=1_000, replace=True)\n",
    "# counties_yield= pd.concat([counties_yield,sample], ignore_index=True)"
   ]
  },
  {
   "cell_type": "code",
   "execution_count": 332,
   "id": "bcff35b2",
   "metadata": {},
   "outputs": [
    {
     "data": {
      "text/html": [
       "<div>\n",
       "<style scoped>\n",
       "    .dataframe tbody tr th:only-of-type {\n",
       "        vertical-align: middle;\n",
       "    }\n",
       "\n",
       "    .dataframe tbody tr th {\n",
       "        vertical-align: top;\n",
       "    }\n",
       "\n",
       "    .dataframe thead th {\n",
       "        text-align: right;\n",
       "    }\n",
       "</style>\n",
       "<table border=\"1\" class=\"dataframe\">\n",
       "  <thead>\n",
       "    <tr style=\"text-align: right;\">\n",
       "      <th></th>\n",
       "      <th>annual_var</th>\n",
       "      <th>season_var</th>\n",
       "      <th>annual_tmax</th>\n",
       "      <th>season_tmax</th>\n",
       "      <th>season_tavg</th>\n",
       "      <th>annual_precip</th>\n",
       "      <th>annual_tavg</th>\n",
       "      <th>season_tmin</th>\n",
       "      <th>value</th>\n",
       "      <th>county code</th>\n",
       "      <th>annual_tmin</th>\n",
       "    </tr>\n",
       "  </thead>\n",
       "  <tbody>\n",
       "    <tr>\n",
       "      <th>yield</th>\n",
       "      <td>0.717312</td>\n",
       "      <td>0.602362</td>\n",
       "      <td>0.395193</td>\n",
       "      <td>0.395193</td>\n",
       "      <td>0.205343</td>\n",
       "      <td>-0.201015</td>\n",
       "      <td>-0.24004</td>\n",
       "      <td>-0.255225</td>\n",
       "      <td>-0.265432</td>\n",
       "      <td>-0.5422</td>\n",
       "      <td>-0.600096</td>\n",
       "    </tr>\n",
       "  </tbody>\n",
       "</table>\n",
       "</div>"
      ],
      "text/plain": [
       "       annual_var  season_var  annual_tmax  season_tmax  season_tavg  \\\n",
       "yield    0.717312    0.602362     0.395193     0.395193     0.205343   \n",
       "\n",
       "       annual_precip  annual_tavg  season_tmin     value  county code  \\\n",
       "yield      -0.201015     -0.24004    -0.255225 -0.265432      -0.5422   \n",
       "\n",
       "       annual_tmin  \n",
       "yield    -0.600096  "
      ]
     },
     "execution_count": 332,
     "metadata": {},
     "output_type": "execute_result"
    }
   ],
   "source": [
    "#looking at correlation\n",
    "corr = counties_yield.corr()[['yield']].sort_values(by='yield',ascending=False)[1:]\n",
    "#choosing predictors\n",
    "highest_corr = corr[(corr['yield'] > 0.2) | (corr['yield'] < - 0.2)].T\n",
    "highest_corr"
   ]
  },
  {
   "cell_type": "markdown",
   "id": "333a7760",
   "metadata": {},
   "source": [
    "### Step 1 Assembling target, predictors and train/test split"
   ]
  },
  {
   "cell_type": "code",
   "execution_count": 333,
   "id": "109e0735",
   "metadata": {},
   "outputs": [],
   "source": [
    "highest_corr_col = [col for col in highest_corr.columns]\n",
    "features = highest_corr_col\n",
    "X = counties_yield[features]\n",
    "y= counties_yield['yield']\n",
    "X_train, X_test, y_train, y_test = train_test_split(X, y, random_state=42)"
   ]
  },
  {
   "cell_type": "markdown",
   "id": "abbdff6d",
   "metadata": {},
   "source": [
    "### Step 2 Scaling my predictors"
   ]
  },
  {
   "cell_type": "code",
   "execution_count": 334,
   "id": "c7c1ca75",
   "metadata": {},
   "outputs": [],
   "source": [
    "ss = StandardScaler()\n",
    "X_train_scaled = ss.fit_transform(X_train)\n",
    "X_test_scaled = ss.fit_transform(X_test)"
   ]
  },
  {
   "cell_type": "markdown",
   "id": "ada62810",
   "metadata": {},
   "source": [
    "### Step 3 Fitting & Scoring "
   ]
  },
  {
   "cell_type": "code",
   "execution_count": 335,
   "id": "73f688de",
   "metadata": {},
   "outputs": [
    {
     "data": {
      "text/plain": [
       "LinearRegression()"
      ]
     },
     "execution_count": 335,
     "metadata": {},
     "output_type": "execute_result"
    }
   ],
   "source": [
    "lr = LinearRegression()\n",
    "lr.fit(X_train_scaled, y_train)"
   ]
  },
  {
   "cell_type": "code",
   "execution_count": 336,
   "id": "5336eb0e",
   "metadata": {},
   "outputs": [
    {
     "name": "stdout",
     "output_type": "stream",
     "text": [
      "0.7116403792186592\n",
      "0.5701698613736882\n",
      "0.646870402558331\n"
     ]
    }
   ],
   "source": [
    "#R2 for train\n",
    "train_score = lr.score(X_train_scaled, y_train)\n",
    "print(train_score)\n",
    "#R2 for test\n",
    "test_score = lr.score(X_test_scaled, y_test)\n",
    "print(test_score)\n",
    "#R2 for multiple test\n",
    "print(cross_val_score(lr, X_train_scaled, y_train).mean())"
   ]
  },
  {
   "cell_type": "code",
   "execution_count": 337,
   "id": "38bff4ed",
   "metadata": {},
   "outputs": [
    {
     "data": {
      "text/plain": [
       "season_tavg      6.310508\n",
       "season_var       1.762093\n",
       "annual_precip    0.242376\n",
       "annual_tmin     -0.075843\n",
       "county code     -0.226402\n",
       "value           -0.291895\n",
       "season_tmin     -0.869281\n",
       "annual_tmax     -0.965107\n",
       "season_tmax     -0.965107\n",
       "annual_var      -1.134907\n",
       "annual_tavg     -3.803411\n",
       "dtype: float64"
      ]
     },
     "execution_count": 337,
     "metadata": {},
     "output_type": "execute_result"
    }
   ],
   "source": [
    "#let's take a look at intercept and beta coefficient \n",
    "coef = pd.Series(lr.coef_, index=features)\n",
    "most_import_coeff = coef.sort_values(ascending=False)\n",
    "most_import_coeff"
   ]
  },
  {
   "cell_type": "markdown",
   "id": "7e794863",
   "metadata": {},
   "source": [
    "### Step 4 Prediction and Residuals"
   ]
  },
  {
   "cell_type": "code",
   "execution_count": 338,
   "id": "cd3c25ef",
   "metadata": {},
   "outputs": [
    {
     "data": {
      "text/plain": [
       "LinearRegression()"
      ]
     },
     "execution_count": 338,
     "metadata": {},
     "output_type": "execute_result"
    }
   ],
   "source": [
    "lr = LinearRegression()\n",
    "lr.fit(X_train, y_train)"
   ]
  },
  {
   "cell_type": "code",
   "execution_count": 339,
   "id": "6668fced",
   "metadata": {},
   "outputs": [],
   "source": [
    "prediction = lr.predict(counties_yield[features])\n",
    "counties_yield['predicted_yield'] = prediction"
   ]
  },
  {
   "cell_type": "code",
   "execution_count": 340,
   "id": "ea8c77c7",
   "metadata": {},
   "outputs": [
    {
     "data": {
      "image/png": "[encoded data removed]",
      "text/plain": [
       "<Figure size 864x432 with 1 Axes>"
      ]
     },
     "metadata": {
      "needs_background": "light"
     },
     "output_type": "display_data"
    }
   ],
   "source": [
    "plt.figure(figsize = (12, 6))\n",
    "plt.hist(counties_yield['yield'], color = 'skyblue',label = 'Actual Yield ')\n",
    "plt.hist(counties_yield['predicted_yield'], color = 'b', label = 'Predicted Yield ', alpha = 0.7)\n",
    "plt.axvline(counties_yield['yield'].median(), color = 'orange', lw=2)\n",
    "# plt.xlabel('Home Price ($)', fontdict= {'fontsize':14})\n",
    "# plt.ylabel('Frequency', fontdict= {'fontsize':14})\n",
    "# plt.title('Distribution Of Home Price In Ames, Iowa', fontdict = {'fontsize':16})\n",
    "plt.legend()\n",
    "plt.tight_layout()"
   ]
  },
  {
   "cell_type": "code",
   "execution_count": 341,
   "id": "c570dd05",
   "metadata": {},
   "outputs": [],
   "source": [
    "pred_test = lr.predict(X_test) \n",
    "residual = y_test - pred_test"
   ]
  },
  {
   "cell_type": "code",
   "execution_count": 342,
   "id": "18178621",
   "metadata": {},
   "outputs": [
    {
     "data": {
      "image/png": "[encoded data removed]",
      "text/plain": [
       "<Figure size 864x432 with 1 Axes>"
      ]
     },
     "metadata": {
      "needs_background": "light"
     },
     "output_type": "display_data"
    }
   ],
   "source": [
    "plt.figure(figsize = (12, 6))\n",
    "plt.hist(residual, color = 'skyblue')\n",
    "plt.axvline(residual.mean(), color = 'orange', lw=2)\n",
    "plt.xlabel('Yield', fontdict= {'fontsize':14})\n",
    "plt.title('Distribution Of Residuals', fontdict = {'fontsize':16})\n",
    "plt.ylabel('Frequency', fontdict= {'fontsize':14})\n",
    "plt.tight_layout();"
   ]
  },
  {
   "cell_type": "code",
   "execution_count": 343,
   "id": "e8b7b544",
   "metadata": {},
   "outputs": [
    {
     "name": "stderr",
     "output_type": "stream",
     "text": [
      "/Users/filoradice/opt/anaconda3/lib/python3.9/site-packages/seaborn/_decorators.py:36: FutureWarning: Pass the following variables as keyword args: x, y. From version 0.12, the only valid positional argument will be `data`, and passing other arguments without an explicit keyword will result in an error or misinterpretation.\n",
      "  warnings.warn(\n"
     ]
    },
    {
     "data": {
      "image/png": "[encoded data removed]",
      "text/plain": [
       "<Figure size 864x432 with 1 Axes>"
      ]
     },
     "metadata": {
      "needs_background": "light"
     },
     "output_type": "display_data"
    }
   ],
   "source": [
    "plt.figure(figsize = (12, 6))\n",
    "plt.axhline(residual.mean(), color = 'orange', lw=2)\n",
    "sns.scatterplot(pred_test, residual, color = 'skyblue')\n",
    "plt.xlabel('Predicted Yield', fontdict= {'fontsize':14})\n",
    "plt.ylabel('Residuals ', fontdict= {'fontsize':14})\n",
    "plt.title('Actual Yield vs Residuals', fontdict = {'fontsize':16})\n",
    "plt.tight_layout()"
   ]
  },
  {
   "cell_type": "markdown",
   "id": "d3c91e85",
   "metadata": {},
   "source": [
    "## Model 2 - Yield | San Joacquin, Napa, Sonoma"
   ]
  },
  {
   "cell_type": "code",
   "execution_count": 344,
   "id": "e6d42113",
   "metadata": {},
   "outputs": [],
   "source": [
    "df2 = df[(df['county']=='San Joaquin')|(df['county']=='Napa')|(df['county']=='Sonoma') ].copy()"
   ]
  },
  {
   "cell_type": "code",
   "execution_count": 345,
   "id": "200a4673",
   "metadata": {},
   "outputs": [],
   "source": [
    "df2.drop(columns=['production', 'harvested acres', 'price p/u'], inplace=True) "
   ]
  },
  {
   "cell_type": "code",
   "execution_count": 346,
   "id": "27ed5fd8",
   "metadata": {},
   "outputs": [],
   "source": [
    "df2.dropna(inplace=True) "
   ]
  },
  {
   "cell_type": "code",
   "execution_count": 347,
   "id": "c8e915ea",
   "metadata": {},
   "outputs": [],
   "source": [
    "#now I would like to bootsrapping to increase sample size by 1_000\n",
    "sample = df2.sample(n=1_000, replace=True)\n",
    "df2= pd.concat([df2,sample], ignore_index=True)"
   ]
  },
  {
   "cell_type": "code",
   "execution_count": 348,
   "id": "20120722",
   "metadata": {},
   "outputs": [
    {
     "data": {
      "text/html": [
       "<div>\n",
       "<style scoped>\n",
       "    .dataframe tbody tr th:only-of-type {\n",
       "        vertical-align: middle;\n",
       "    }\n",
       "\n",
       "    .dataframe tbody tr th {\n",
       "        vertical-align: top;\n",
       "    }\n",
       "\n",
       "    .dataframe thead th {\n",
       "        text-align: right;\n",
       "    }\n",
       "</style>\n",
       "<table border=\"1\" class=\"dataframe\">\n",
       "  <thead>\n",
       "    <tr style=\"text-align: right;\">\n",
       "      <th></th>\n",
       "      <th>annual_tavg</th>\n",
       "      <th>season_tavg</th>\n",
       "      <th>season_tmin</th>\n",
       "      <th>annual_tmax</th>\n",
       "      <th>season_tmax</th>\n",
       "      <th>annual_var</th>\n",
       "      <th>season_precip</th>\n",
       "      <th>annual_precip</th>\n",
       "    </tr>\n",
       "  </thead>\n",
       "  <tbody>\n",
       "    <tr>\n",
       "      <th>yield</th>\n",
       "      <td>0.648872</td>\n",
       "      <td>0.612487</td>\n",
       "      <td>0.572292</td>\n",
       "      <td>0.481198</td>\n",
       "      <td>0.481198</td>\n",
       "      <td>0.342278</td>\n",
       "      <td>-0.372941</td>\n",
       "      <td>-0.520277</td>\n",
       "    </tr>\n",
       "  </tbody>\n",
       "</table>\n",
       "</div>"
      ],
      "text/plain": [
       "       annual_tavg  season_tavg  season_tmin  annual_tmax  season_tmax  \\\n",
       "yield     0.648872     0.612487     0.572292     0.481198     0.481198   \n",
       "\n",
       "       annual_var  season_precip  annual_precip  \n",
       "yield    0.342278      -0.372941      -0.520277  "
      ]
     },
     "execution_count": 348,
     "metadata": {},
     "output_type": "execute_result"
    }
   ],
   "source": [
    "#looking at correlation\n",
    "corr = df2.corr()[['yield']].sort_values(by='yield',ascending=False)[1:]\n",
    "#choosing predictors\n",
    "highest_corr = corr[(corr['yield'] > 0.2) | (corr['yield'] < - 0.2)].T\n",
    "highest_corr"
   ]
  },
  {
   "cell_type": "markdown",
   "id": "fa8f461e",
   "metadata": {},
   "source": [
    "### Step 1 Assembling target, predictors and train/test split"
   ]
  },
  {
   "cell_type": "code",
   "execution_count": 349,
   "id": "f0e08d95",
   "metadata": {},
   "outputs": [],
   "source": [
    "highest_corr_col = [col for col in highest_corr.columns]\n",
    "features = highest_corr_col\n",
    "X = df2[features]\n",
    "y= df2['yield']\n",
    "X_train, X_test, y_train, y_test = train_test_split(X, y, random_state=42)"
   ]
  },
  {
   "cell_type": "markdown",
   "id": "70c6dbe7",
   "metadata": {},
   "source": [
    "### Step 2 Scaling my predictors"
   ]
  },
  {
   "cell_type": "code",
   "execution_count": null,
   "id": "f13bf011",
   "metadata": {},
   "outputs": [],
   "source": []
  },
  {
   "cell_type": "markdown",
   "id": "712742c5",
   "metadata": {},
   "source": [
    "### Step 3 Fitting & Scoring "
   ]
  },
  {
   "cell_type": "code",
   "execution_count": 350,
   "id": "ebf4fe8b",
   "metadata": {},
   "outputs": [
    {
     "data": {
      "text/plain": [
       "LinearRegression()"
      ]
     },
     "execution_count": 350,
     "metadata": {},
     "output_type": "execute_result"
    }
   ],
   "source": [
    "lr2 = LinearRegression()\n",
    "lr2.fit(X_train, y_train)"
   ]
  },
  {
   "cell_type": "code",
   "execution_count": 351,
   "id": "80d6d2eb",
   "metadata": {},
   "outputs": [
    {
     "name": "stdout",
     "output_type": "stream",
     "text": [
      "0.4903674230574405\n",
      "0.5207590407477605\n",
      "0.47505326428963884\n"
     ]
    }
   ],
   "source": [
    "#R2 for train\n",
    "train_score = lr2.score(X_train, y_train)\n",
    "print(train_score)\n",
    "#R2 for test\n",
    "test_score = lr2.score(X_test, y_test)\n",
    "print(test_score)\n",
    "#R2 for multiple test\n",
    "print(cross_val_score(lr2, X_train, y_train).mean())"
   ]
  },
  {
   "cell_type": "code",
   "execution_count": 352,
   "id": "ec47c9aa",
   "metadata": {},
   "outputs": [
    {
     "data": {
      "text/plain": [
       "season_tavg      0.322853\n",
       "annual_tavg      0.276087\n",
       "season_tmin      0.100997\n",
       "season_precip    0.086742\n",
       "annual_precip   -0.014090\n",
       "annual_tmax     -0.034465\n",
       "season_tmax     -0.034465\n",
       "annual_var      -0.072498\n",
       "dtype: float64"
      ]
     },
     "execution_count": 352,
     "metadata": {},
     "output_type": "execute_result"
    }
   ],
   "source": [
    "#let's take a look at intercept and beta coefficient \n",
    "coef = pd.Series(lr2.coef_, index=features)\n",
    "most_import_coeff = coef.sort_values(ascending=False)\n",
    "most_import_coeff"
   ]
  },
  {
   "cell_type": "markdown",
   "id": "f22bf446",
   "metadata": {},
   "source": [
    "### Step 4 Prediction and Residuals"
   ]
  },
  {
   "cell_type": "code",
   "execution_count": 353,
   "id": "d156a7c7",
   "metadata": {},
   "outputs": [],
   "source": [
    "prediction = lr2.predict(df2[features])\n",
    "df2['predicted_yield'] = prediction"
   ]
  },
  {
   "cell_type": "code",
   "execution_count": 354,
   "id": "276f9ae8",
   "metadata": {},
   "outputs": [
    {
     "data": {
      "image/png": "[encoded data removed]",
      "text/plain": [
       "<Figure size 864x432 with 1 Axes>"
      ]
     },
     "metadata": {
      "needs_background": "light"
     },
     "output_type": "display_data"
    }
   ],
   "source": [
    "plt.figure(figsize = (12, 6))\n",
    "plt.hist(df2['yield'], color = 'skyblue',label = 'Actual Yield ')\n",
    "plt.hist(df2['predicted_yield'], color = 'b', label = 'Predicted Yield ', alpha = 0.7)\n",
    "plt.axvline(df2['yield'].median(), color = 'orange', lw=2)\n",
    "# plt.xlabel('Home Price ($)', fontdict= {'fontsize':14})\n",
    "# plt.ylabel('Frequency', fontdict= {'fontsize':14})\n",
    "# plt.title('Distribution Of Home Price In Ames, Iowa', fontdict = {'fontsize':16})\n",
    "plt.legend()\n",
    "plt.tight_layout()"
   ]
  },
  {
   "cell_type": "code",
   "execution_count": 355,
   "id": "6fd5d662",
   "metadata": {},
   "outputs": [],
   "source": [
    "pred_test = lr2.predict(X_test) \n",
    "residual = y_test - pred_test"
   ]
  },
  {
   "cell_type": "code",
   "execution_count": 356,
   "id": "404479fc",
   "metadata": {},
   "outputs": [
    {
     "data": {
      "image/png": "[encoded data removed]",
      "text/plain": [
       "<Figure size 864x432 with 1 Axes>"
      ]
     },
     "metadata": {
      "needs_background": "light"
     },
     "output_type": "display_data"
    }
   ],
   "source": [
    "plt.figure(figsize = (12, 6))\n",
    "plt.hist(residual, color = 'skyblue')\n",
    "plt.axvline(residual.mean(), color = 'orange', lw=2)\n",
    "plt.xlabel('Yield', fontdict= {'fontsize':14})\n",
    "plt.title('Distribution Of Residuals', fontdict = {'fontsize':16})\n",
    "plt.ylabel('Frequency', fontdict= {'fontsize':14})\n",
    "plt.tight_layout();"
   ]
  },
  {
   "cell_type": "code",
   "execution_count": 357,
   "id": "ac4f63fd",
   "metadata": {},
   "outputs": [
    {
     "name": "stderr",
     "output_type": "stream",
     "text": [
      "/Users/filoradice/opt/anaconda3/lib/python3.9/site-packages/seaborn/_decorators.py:36: FutureWarning: Pass the following variables as keyword args: x, y. From version 0.12, the only valid positional argument will be `data`, and passing other arguments without an explicit keyword will result in an error or misinterpretation.\n",
      "  warnings.warn(\n"
     ]
    },
    {
     "data": {
      "image/png": "[encoded data removed]",
      "text/plain": [
       "<Figure size 864x432 with 1 Axes>"
      ]
     },
     "metadata": {
      "needs_background": "light"
     },
     "output_type": "display_data"
    }
   ],
   "source": [
    "plt.figure(figsize = (12, 6))\n",
    "plt.axhline(residual.mean(), color = 'orange', lw=2)\n",
    "sns.scatterplot(pred_test, residual, color = 'skyblue')\n",
    "plt.xlabel('Predicted Yield', fontdict= {'fontsize':14})\n",
    "plt.ylabel('Residuals ', fontdict= {'fontsize':14})\n",
    "plt.title('Actual Yield vs Residuals', fontdict = {'fontsize':16})\n",
    "plt.tight_layout()"
   ]
  }
 ],
 "metadata": {
  "kernelspec": {
   "display_name": "Python 3 (ipykernel)",
   "language": "python",
   "name": "python3"
  },
  "language_info": {
   "codemirror_mode": {
    "name": "ipython",
    "version": 3
   },
   "file_extension": ".py",
   "mimetype": "text/x-python",
   "name": "python",
   "nbconvert_exporter": "python",
   "pygments_lexer": "ipython3",
   "version": "3.9.7"
  }
 },
 "nbformat": 4,
 "nbformat_minor": 5
}
